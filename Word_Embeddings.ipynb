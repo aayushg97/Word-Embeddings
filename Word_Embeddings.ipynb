{
  "nbformat": 4,
  "nbformat_minor": 0,
  "metadata": {
    "colab": {
      "provenance": []
    },
    "kernelspec": {
      "name": "python3",
      "display_name": "Python 3"
    },
    "language_info": {
      "name": "python"
    }
  },
  "cells": [
    {
      "cell_type": "code",
      "execution_count": null,
      "metadata": {
        "id": "g5kIHMWcRiHl"
      },
      "outputs": [],
      "source": [
        "from nltk.corpus import brown, stopwords\n",
        "import string\n",
        "from collections import Counter, defaultdict\n",
        "import nltk\n",
        "import math\n",
        "import numpy as np"
      ]
    },
    {
      "cell_type": "code",
      "source": [
        "nltk.download('stopwords')\n",
        "nltk.download('brown')\n",
        "\n",
        "def process_words(word_list):\n",
        "    # Convert everything to lowercase\n",
        "    word_list = [word.lower() for word in word_list]\n",
        "\n",
        "    # Remove punctuation\n",
        "    word_list = [word.translate(str.maketrans('', '', string.punctuation)) for word in word_list]\n",
        "\n",
        "    # Remove stopwords\n",
        "    stop_words = set(stopwords.words('english'))\n",
        "    word_list = [word for word in word_list if word not in stop_words]\n",
        "\n",
        "    # Remove empty character\n",
        "    word_list = [word for word in word_list if word != '']\n",
        "\n",
        "    # Count the occurrence of each word\n",
        "    word_count = Counter(word_list)\n",
        "\n",
        "    return word_count\n",
        "\n",
        "\n",
        "word_count = process_words(brown.words())\n",
        "VandCount = word_count.most_common()[:5000]\n",
        "CandCount = word_count.most_common()[:1000]\n",
        "V = [x[0] for x in VandCount]\n",
        "C = [x[0] for x in CandCount]"
      ],
      "metadata": {
        "colab": {
          "base_uri": "https://localhost:8080/"
        },
        "id": "VCYUDCYITCO7",
        "outputId": "7a447207-9bf1-4712-bf11-d894c7ff2eb2"
      },
      "execution_count": null,
      "outputs": [
        {
          "output_type": "stream",
          "name": "stderr",
          "text": [
            "[nltk_data] Downloading package stopwords to /root/nltk_data...\n",
            "[nltk_data]   Package stopwords is already up-to-date!\n",
            "[nltk_data] Downloading package brown to /root/nltk_data...\n",
            "[nltk_data]   Package brown is already up-to-date!\n"
          ]
        }
      ]
    },
    {
      "cell_type": "code",
      "source": [
        "print(CandCount)"
      ],
      "metadata": {
        "colab": {
          "base_uri": "https://localhost:8080/"
        },
        "id": "1ron3LcjQtbR",
        "outputId": "07a690c7-0bae-4696-8de2-89c3dad54f84"
      },
      "execution_count": null,
      "outputs": [
        {
          "output_type": "stream",
          "name": "stdout",
          "text": [
            "[('one', 3297), ('would', 2714), ('said', 1961), ('new', 1635), ('could', 1601), ('time', 1598), ('two', 1412), ('may', 1402), ('first', 1361), ('like', 1292), ('man', 1207), ('even', 1170), ('made', 1125), ('also', 1069), ('many', 1030), ('must', 1013), ('years', 1001), ('af', 996), ('back', 966), ('well', 961), ('much', 937), ('way', 909), ('people', 847), ('mr', 844), ('us', 838), ('little', 831), ('state', 807), ('good', 806), ('make', 794), ('world', 787), ('still', 782), ('see', 772), ('men', 763), ('work', 762), ('long', 753), ('get', 749), ('life', 715), ('never', 697), ('day', 687), ('another', 684), ('know', 683), ('last', 676), ('might', 672), ('great', 665), ('old', 661), ('year', 658), ('states', 650), ('come', 630), ('since', 628), ('go', 626), ('came', 622), ('right', 613), ('used', 611), ('take', 610), ('three', 610), ('house', 591), ('use', 591), ('without', 583), ('place', 570), ('american', 569), ('around', 562), ('however', 552), ('home', 547), ('1', 546), ('small', 542), ('found', 536), ('mrs', 535), ('thought', 517), ('went', 507), ('say', 504), ('part', 500), ('general', 498), ('high', 498), ('upon', 495), ('school', 493), ('every', 491), ('dont', 489), ('got', 482), ('united', 482), ('left', 480), ('number', 472), ('2', 465), ('course', 465), ('war', 464), ('always', 458), ('away', 456), ('something', 450), ('fact', 447), ('water', 445), ('though', 440), ('public', 438), ('less', 437), ('put', 437), ('think', 433), ('almost', 432), ('hand', 431), ('enough', 430), ('took', 426), ('far', 426), ('head', 424), ('yet', 419), ('government', 418), ('system', 416), ('set', 414), ('better', 414), ('told', 413), ('night', 411), ('nothing', 411), ('end', 409), ('didnt', 401), ('days', 401), ('called', 401), ('eyes', 401), ('find', 400), ('going', 399), ('look', 399), ('asked', 398), ('later', 397), ('knew', 395), ('point', 395), ('next', 394), ('program', 394), ('city', 393), ('business', 393), ('group', 390), ('give', 389), ('toward', 386), ('young', 385), ('let', 384), ('room', 384), ('president', 382), ('side', 381), ('social', 380), ('present', 377), ('given', 377), ('several', 377), ('order', 376), ('national', 375), ('second', 375), ('possible', 374), ('rather', 373), ('face', 371), ('per', 371), ('among', 370), ('form', 370), ('often', 369), ('important', 369), ('things', 368), ('looked', 367), ('early', 366), ('white', 365), ('john', 362), ('case', 362), ('large', 361), ('four', 360), ('need', 360), ('big', 360), ('become', 359), ('within', 359), ('felt', 357), ('children', 355), ('along', 355), ('saw', 352), ('best', 351), ('church', 348), ('ever', 345), ('least', 343), ('power', 342), ('development', 334), ('others', 334), ('seemed', 333), ('thing', 333), ('light', 333), ('family', 331), ('interest', 330), ('want', 328), ('members', 327), ('mind', 325), ('area', 324), ('country', 324), ('although', 321), ('turned', 320), ('done', 319), ('open', 318), ('god', 316), ('service', 315), ('problem', 313), ('certain', 313), ('kind', 313), ('different', 312), ('thus', 312), ('began', 312), ('door', 312), ('help', 311), ('sense', 311), ('means', 310), ('whole', 309), ('matter', 308), ('perhaps', 307), ('times', 303), ('york', 302), ('law', 299), ('human', 299), ('line', 298), ('3', 294), ('name', 294), ('example', 292), ('action', 291), ('company', 290), ('hands', 289), ('local', 288), ('today', 288), ('show', 288), ('whether', 286), ('five', 286), ('history', 286), ('gave', 285), ('either', 284), ('act', 283), ('feet', 283), ('across', 282), ('taken', 281), ('past', 281), ('quite', 281), ('anything', 280), ('seen', 279), ('death', 277), ('experience', 276), ('body', 276), ('week', 275), ('im', 275), ('half', 275), ('really', 275), ('word', 274), ('field', 274), ('car', 274), ('words', 274), ('already', 273), ('information', 269), ('tell', 268), ('shall', 268), ('together', 267), ('college', 267), ('money', 265), ('period', 265), ('held', 264), ('keep', 264), ('sure', 263), ('probably', 261), ('free', 259), ('seems', 259), ('political', 258), ('real', 258), ('cannot', 258), ('behind', 258), ('miss', 258), ('question', 257), ('air', 257), ('office', 255), ('making', 255), ('brought', 253), ('whose', 251), ('special', 250), ('major', 247), ('heard', 247), ('problems', 247), ('federal', 246), ('became', 246), ('study', 246), ('ago', 246), ('moment', 246), ('available', 245), ('known', 245), ('result', 244), ('street', 244), ('economic', 243), ('boy', 242), ('position', 241), ('reason', 241), ('change', 240), ('south', 240), ('board', 239), ('individual', 239), ('job', 239), ('areas', 238), ('society', 237), ('west', 235), ('close', 234), ('turn', 233), ('community', 231), ('true', 231), ('love', 231), ('court', 230), ('force', 230), ('full', 230), ('cost', 229), ('seem', 229), ('wife', 228), ('future', 227), ('age', 227), ('wanted', 226), ('voice', 226), ('department', 225), ('center', 224), ('woman', 224), ('control', 223), ('common', 223), ('policy', 222), ('necessary', 222), ('following', 221), ('front', 221), ('sometimes', 221), ('students', 220), ('six', 220), ('ill', 220), ('girl', 220), ('c', 219), ('clear', 219), ('land', 218), ('provide', 216), ('feel', 216), ('party', 216), ('able', 216), ('mother', 216), ('music', 216), ('4', 215), ('nations', 215), ('education', 214), ('university', 214), ('child', 213), ('effect', 213), ('level', 213), ('run', 212), ('stood', 212), ('military', 212), ('town', 212), ('short', 212), ('morning', 211), ('total', 211), ('outside', 210), ('rate', 209), ('figure', 209), ('art', 208), ('class', 208), ('century', 207), ('washington', 206), ('north', 206), ('usually', 206), ('plan', 205), ('leave', 205), ('therefore', 205), ('evidence', 204), ('top', 204), ('million', 204), ('sound', 204), ('black', 203), ('strong', 202), ('hard', 202), ('tax', 201), ('various', 201), ('says', 200), ('believe', 200), ('type', 200), ('value', 200), ('play', 200), ('surface', 200), ('soon', 199), ('mean', 199), ('near', 198), ('schools', 198), ('lines', 198), ('table', 198), ('peace', 198), ('modern', 198), ('road', 197), ('red', 197), ('minutes', 197), ('book', 197), ('personal', 196), ('process', 196), ('months', 196), ('situation', 196), ('increase', 195), ('idea', 195), ('english', 195), ('alone', 195), ('women', 195), ('gone', 195), ('living', 194), ('america', 194), ('started', 194), ('longer', 193), ('dr', 192), ('cut', 192), ('finally', 191), ('third', 191), ('secretary', 191), ('nature', 191), ('private', 191), ('section', 189), ('greater', 188), ('call', 188), ('fire', 187), ('expected', 187), ('needed', 187), ('thats', 187), ('kept', 186), ('ground', 186), ('view', 186), ('values', 186), ('everything', 185), ('pressure', 185), ('dark', 185), ('basis', 184), ('space', 184), ('east', 183), ('father', 183), ('b', 182), ('required', 182), ('union', 182), ('spirit', 182), ('complete', 182), ('ones', 181), ('except', 181), ('wrote', 181), ('moved', 181), ('support', 180), ('return', 180), ('conditions', 180), ('recent', 179), ('attention', 179), ('late', 179), ('particular', 179), ('live', 177), ('hope', 177), ('costs', 176), ('hours', 176), ('forces', 176), ('else', 176), ('brown', 176), ('10', 175), ('taking', 175), ('couldnt', 175), ('beyond', 175), ('stage', 175), ('read', 174), ('report', 174), ('coming', 174), ('person', 174), ('inside', 174), ('dead', 174), ('low', 174), ('material', 174), ('instead', 173), ('lost', 173), ('heart', 173), ('looking', 173), ('miles', 173), ('data', 173), ('added', 172), ('pay', 172), ('amount', 172), ('followed', 172), ('feeling', 172), ('1960', 172), ('single', 172), ('makes', 172), ('research', 171), ('including', 171), ('basic', 171), ('hundred', 171), ('move', 171), ('industry', 171), ('cold', 171), ('simply', 171), ('cant', 170), ('developed', 170), ('tried', 170), ('hold', 169), ('reached', 169), ('committee', 168), ('island', 167), ('defense', 167), ('equipment', 167), ('actually', 166), ('shown', 166), ('son', 165), ('central', 165), ('religious', 165), ('friends', 165), ('river', 165), ('getting', 164), ('st', 164), ('beginning', 164), ('sort', 164), ('ten', 164), ('received', 163), ('terms', 163), ('trying', 163), ('rest', 163), ('medical', 162), ('boys', 162), ('care', 162), ('especially', 162), ('picture', 162), ('indeed', 162), ('administration', 161), ('fine', 161), ('subject', 161), ('higher', 161), ('difficult', 161), ('building', 160), ('wall', 160), ('simple', 160), ('meeting', 159), ('walked', 159), ('floor', 158), ('foreign', 158), ('bring', 158), ('similar', 157), ('passed', 157), ('range', 157), ('paper', 157), ('5', 157), ('property', 156), ('natural', 156), ('final', 156), ('training', 156), ('county', 155), ('police', 155), ('cent', 155), ('congress', 155), ('international', 155), ('growth', 155), ('market', 155), ('wasnt', 154), ('talk', 154), ('start', 154), ('england', 154), ('written', 154), ('girls', 154), ('hear', 153), ('suddenly', 153), ('hall', 153), ('story', 153), ('issue', 152), ('needs', 152), ('answer', 152), ('likely', 151), ('working', 151), ('weeks', 151), ('countries', 151), ('considered', 151), ('youre', 151), ('earth', 150), ('sat', 150), ('purpose', 149), ('cases', 149), ('meet', 149), ('labor', 149), ('results', 149), ('entire', 149), ('happened', 149), ('william', 148), ('stand', 148), ('difference', 148), ('production', 148), ('hair', 148), ('involved', 147), ('fall', 147), ('stock', 147), ('food', 147), ('earlier', 146), ('increased', 146), ('particularly', 146), ('paid', 145), ('sent', 145), ('effort', 145), ('knowledge', 145), ('hour', 145), ('letter', 145), ('club', 145), ('using', 145), ('thinking', 145), ('yes', 144), ('christian', 144), ('blue', 143), ('ready', 143), ('bill', 143), ('deal', 143), ('points', 143), ('trade', 143), ('certainly', 143), ('ideas', 143), ('industrial', 143), ('square', 143), ('methods', 142), ('addition', 142), ('method', 142), ('bad', 142), ('due', 142), ('moral', 142), ('decided', 141), ('reading', 141), ('statement', 141), ('neither', 141), ('nearly', 141), ('directly', 141), ('showed', 141), ('throughout', 141), ('according', 140), ('questions', 140), ('color', 140), ('kennedy', 140), ('programs', 140), ('anyone', 140), ('try', 140), ('services', 139), ('nation', 139), ('lay', 139), ('french', 139), ('size', 138), ('remember', 138), ('physical', 138), ('15', 137), ('record', 137), ('member', 137), ('comes', 137), ('understand', 137), ('southern', 137), ('western', 137), ('strength', 137), ('population', 136), ('normal', 136), ('aid', 135), ('p', 135), ('merely', 135), ('district', 135), ('volume', 135), ('concerned', 135), ('appeared', 135), ('temperature', 135), ('1961', 134), ('trouble', 134), ('trial', 134), ('summer', 134), ('direction', 134), ('ran', 134), ('sales', 133), ('list', 133), ('continued', 133), ('friend', 133), ('evening', 133), ('maybe', 133), ('literature', 133), ('generally', 132), ('association', 132), ('provided', 132), ('led', 132), ('12', 132), ('army', 132), ('systems', 132), ('met', 132), ('influence', 132), ('opened', 131), ('former', 131), ('science', 131), ('student', 131), ('step', 131), ('changes', 131), ('chance', 131), ('works', 131), ('husband', 131), ('hot', 130), ('series', 130), ('average', 130), ('month', 130), ('cause', 130), ('effective', 129), ('george', 129), ('planning', 129), ('wouldnt', 129), ('direct', 129), ('soviet', 129), ('stopped', 129), ('wrong', 129), ('ways', 129), ('lead', 129), ('piece', 129), ('theory', 129), ('ask', 128), ('worked', 128), ('freedom', 128), ('organization', 128), ('clearly', 128), ('movement', 128), ('press', 127), ('somewhat', 127), ('spring', 127), ('efforts', 127), ('consider', 127), ('meaning', 127), ('bed', 127), ('fear', 127), ('lot', 127), ('treatment', 127), ('beautiful', 127), ('note', 127), ('forms', 127), ('j', 126), ('e', 126), ('groups', 126), ('placed', 126), ('hotel', 126), ('truth', 126), ('wide', 126), ('mans', 126), ('30', 125), ('apparently', 125), ('persons', 125), ('degree', 125), ('hes', 125), ('plant', 125), ('carried', 125), ('ive', 125), ('hell', 125), ('respect', 125), ('numbers', 125), ('manner', 124), ('reaction', 124), ('arms', 124), ('easy', 124), ('farm', 124), ('immediately', 123), ('running', 123), ('approach', 123), ('game', 123), ('recently', 123), ('larger', 123), ('lower', 123), ('charge', 122), ('couple', 122), ('de', 122), ('daily', 122), ('eye', 122), ('performance', 122), ('middle', 122), ('feed', 122), ('oh', 122), ('march', 121), ('understanding', 121), ('opportunity', 121), ('blood', 121), ('additional', 120), ('technical', 120), ('fiscal', 120), ('6', 120), ('radio', 120), ('described', 120), ('stop', 120), ('progress', 120), ('steps', 119), ('test', 119), ('chief', 119), ('reported', 119), ('served', 119), ('based', 119), ('cars', 119), ('main', 119), ('determined', 119), ('image', 119), ('decision', 119), ('window', 119), ('religion', 119), ('aj', 118), ('gun', 118), ('responsibility', 118), ('europe', 118), ('british', 118), ('character', 118), ('learned', 117), ('horse', 117), ('writing', 117), ('appear', 117), ('account', 117), ('serious', 116), ('activity', 116), ('types', 116), ('corner', 116), ('green', 116), ('length', 116), ('lived', 115), ('audience', 115), ('letters', 115), ('returned', 115), ('obtained', 115), ('nuclear', 115), ('specific', 115), ('forward', 115), ('activities', 115), ('slowly', 115), ('plans', 114), ('doubt', 114), ('seven', 114), ('justice', 114), ('moving', 114), ('latter', 114), ('gives', 114), ('straight', 114), ('hit', 114), ('plane', 114), ('quality', 114), ('design', 114), ('obviously', 114), ('operation', 113), ('shot', 113), ('choice', 113), ('poor', 113), ('staff', 113), ('function', 113), ('figures', 113), ('parts', 113), ('stay', 113), ('saying', 113), ('leaders', 113), ('include', 113), ('born', 113), ('pattern', 113), ('whatever', 112), ('sun', 112), ('faith', 111), ('pool', 111), ('hospital', 110), ('8', 110), ('corps', 110), ('mass', 110), ('wish', 110), ('lack', 110), ('completely', 110), ('heavy', 110), ('waiting', 110), ('speak', 110), ('ball', 110), ('standard', 110), ('extent', 110), ('visit', 109), ('democratic', 109), ('firm', 109), ('income', 109), ('ahead', 109), ('deep', 109), ('theres', 109), ('language', 109), ('principle', 109), ('none', 108), ('price', 108), ('designed', 108), ('indicated', 108), ('analysis', 108), ('distance', 108), ('expect', 108), ('established', 108), ('products', 108), ('effects', 108), ('growing', 108), ('importance', 108), ('continue', 107), ('serve', 107), ('determine', 107), ('cities', 107), ('elements', 107), ('negro', 107), ('division', 107), ('wont', 107), ('id', 107), ('pretty', 107), ('easily', 107), ('existence', 107), ('attitude', 107), ('stress', 107), ('afternoon', 106), ('limited', 106), ('hardly', 106), ('thomas', 106), ('agreement', 106), ('factors', 106), ('scene', 106), ('remained', 106), ('closed', 106), ('write', 106), ('applied', 106), ('health', 105), ('married', 105), ('suggested', 105), ('attack', 105), ('rhode', 105), ('20', 105), ('interested', 105), ('station', 105), ('professional', 105), ('drive', 105), ('season', 105), ('reach', 105), ('despite', 104), ('current', 104), ('spent', 104), ('eight', 104), ('covered', 104), ('role', 104), ('played', 104), ('becomes', 104), ('date', 103), ('council', 103), ('race', 103), ('unit', 103), ('charles', 103), ('commission', 103), ('original', 103), ('mouth', 103), ('reasons', 103), ('studies', 103), ('exactly', 103), ('machine', 103), ('built', 103), ('teeth', 103), ('james', 102), ('relations', 102), ('100', 102), ('rise', 102), ('demand', 102), ('prepared', 102), ('1959', 102), ('officers', 102), ('related', 102), ('rates', 102), ('news', 102), ('supply', 102), ('trees', 102), ('director', 101), ('sunday', 101), ('bit', 101), ('raised', 101), ('events', 101), ('unless', 101), ('officer', 101), ('dropped', 101), ('playing', 101), ('standing', 101), ('sides', 101), ('doctor', 100), ('r', 100), ('places', 100), ('facilities', 100), ('walk', 100), ('energy', 100), ('7', 100), ('talking', 100), ('meant', 100), ('clay', 100), ('books', 99), ('gas', 99), ('25', 99), ('filled', 99), ('techniques', 99), ('june', 99), ('knows', 99), ('hadnt', 99), ('glass', 99), ('jazz', 99), ('institutions', 99), ('materials', 99), ('poet', 99), ('actual', 99), ('funds', 98), ('fight', 98), ('dollars', 98), ('parents', 98), ('concern', 98), ('caught', 98), ('share', 98), ('popular', 98), ('claim', 98), ('entered', 98), ('chicago', 98), ('happy', 98), ('bridge', 98), ('style', 98), ('hed', 98), ('follow', 97), ('communist', 97), ('status', 97), ('included', 97), ('thousand', 97), ('christ', 97), ('isnt', 97), ('heat', 97), ('radiation', 97), ('cattle', 97), ('suppose', 97), ('primary', 96)]\n"
          ]
        }
      ]
    },
    {
      "cell_type": "code",
      "source": [
        "m = 0\n",
        "countWandC = defaultdict(lambda: defaultdict(int))\n",
        "countW = defaultdict(int)\n",
        "countC = defaultdict(int)\n",
        "for sent in brown.sents():\n",
        "    for i in range(len(sent)):\n",
        "        for j in range(max(i-2, 0), min(i+2, len(sent)-1)):\n",
        "            if(i != j and sent[i] in V and sent[j] in C):\n",
        "                countWandC[sent[i]][sent[j]] += 1\n",
        "                countW[sent[i]] += 1\n",
        "                countC[sent[j]] += 1\n",
        "                m += 1"
      ],
      "metadata": {
        "id": "IEH887i4T1_L"
      },
      "execution_count": null,
      "outputs": []
    },
    {
      "cell_type": "code",
      "source": [
        "embedding = {}\n",
        "\n",
        "for w in V:\n",
        "    vec = []\n",
        "    for c in C:\n",
        "        if(countW[w]==0 or countC[c]==0):\n",
        "            vec.append(0)\n",
        "        else:\n",
        "            logArg = (countWandC[w][c]/countW[w])/(countC[c]/m)\n",
        "            if(logArg==0):\n",
        "                vec.append(0)\n",
        "            else:\n",
        "                vec.append(max(0, math.log( logArg )))\n",
        "\n",
        "    embedding[w] = vec"
      ],
      "metadata": {
        "id": "sNVWcK8JT8zq"
      },
      "execution_count": null,
      "outputs": []
    },
    {
      "cell_type": "code",
      "source": [
        "from sklearn.decomposition import PCA\n",
        "\n",
        "embMat = np.array([embedding[w] for w in embedding])\n",
        "pcaMat = PCA(n_components=100).fit_transform(embMat)\n",
        "pcaEmbeddings = {}\n",
        "\n",
        "for i, w in enumerate(embedding):\n",
        "    pcaEmbeddings[w] = pcaMat[i]"
      ],
      "metadata": {
        "id": "HZT8TC_2Vzky"
      },
      "execution_count": null,
      "outputs": []
    },
    {
      "cell_type": "code",
      "source": [
        "def cosDist(v1, v2):\n",
        "    return 1 - np.dot(v1, v2)/(np.linalg.norm(v1)*np.linalg.norm(v2))\n",
        "\n",
        "nearestNeighbor = {}\n",
        "\n",
        "for w in V[:100]:\n",
        "    wprime = \"\"\n",
        "    dist = np.inf\n",
        "\n",
        "    for wp in V:\n",
        "        if(wp != w and cosDist(pcaEmbeddings[w], pcaEmbeddings[wp]) < dist):\n",
        "            dist = cosDist(pcaEmbeddings[w], pcaEmbeddings[wp])\n",
        "            wprime = wp\n",
        "\n",
        "    nearestNeighbor[w] = wprime\n",
        "\n",
        "print(\"Word \\t Nearest Neighbour\")\n",
        "for word in nearestNeighbor:\n",
        "    print(f\"{word} \\t {nearestNeighbor[word]}\")"
      ],
      "metadata": {
        "id": "QK8705KQT7zl",
        "colab": {
          "base_uri": "https://localhost:8080/"
        },
        "outputId": "778d7eaf-0a78-47b0-fca5-1c74bf8cb82f"
      },
      "execution_count": null,
      "outputs": [
        {
          "output_type": "stream",
          "name": "stdout",
          "text": [
            "Word \t Nearest Neighbour\n",
            "one \t every\n",
            "would \t could\n",
            "said \t told\n",
            "new \t modern\n",
            "could \t would\n",
            "time \t period\n",
            "two \t three\n",
            "may \t would\n",
            "first \t second\n",
            "like \t around\n",
            "man \t boy\n",
            "even \t much\n",
            "made \t become\n",
            "also \t always\n",
            "many \t two\n",
            "must \t might\n",
            "years \t days\n",
            "af \t american\n",
            "back \t around\n",
            "well \t also\n",
            "much \t even\n",
            "way \t us\n",
            "people \t men\n",
            "mr \t af\n",
            "us \t would\n",
            "little \t much\n",
            "state \t local\n",
            "good \t real\n",
            "make \t take\n",
            "world \t war\n",
            "still \t always\n",
            "see \t tell\n",
            "men \t people\n",
            "work \t still\n",
            "long \t next\n",
            "get \t go\n",
            "life \t experience\n",
            "never \t ever\n",
            "day \t week\n",
            "another \t one\n",
            "know \t remember\n",
            "last \t next\n",
            "might \t must\n",
            "great \t major\n",
            "old \t young\n",
            "year \t week\n",
            "states \t parts\n",
            "come \t came\n",
            "since \t well\n",
            "go \t get\n",
            "came \t went\n",
            "right \t left\n",
            "used \t found\n",
            "take \t see\n",
            "three \t two\n",
            "house \t room\n",
            "use \t find\n",
            "without \t even\n",
            "place \t step\n",
            "american \t af\n",
            "around \t back\n",
            "however \t became\n",
            "home \t back\n",
            "1 \t 3\n",
            "small \t little\n",
            "found \t come\n",
            "mrs \t af\n",
            "thought \t seemed\n",
            "went \t came\n",
            "say \t tell\n",
            "part \t role\n",
            "general \t social\n",
            "high \t higher\n",
            "upon \t along\n",
            "school \t college\n",
            "every \t one\n",
            "dont \t af\n",
            "got \t came\n",
            "united \t attached\n",
            "left \t right\n",
            "number \t numbers\n",
            "2 \t 3\n",
            "course \t action\n",
            "war \t world\n",
            "always \t never\n",
            "away \t back\n",
            "something \t anything\n",
            "fact \t characteristic\n",
            "water \t light\n",
            "though \t might\n",
            "public \t special\n",
            "less \t much\n",
            "put \t get\n",
            "think \t believe\n",
            "almost \t still\n",
            "hand \t arm\n",
            "enough \t quite\n",
            "took \t said\n",
            "far \t west\n",
            "head \t onto\n"
          ]
        }
      ]
    },
    {
      "cell_type": "code",
      "source": [
        "from sklearn.cluster import KMeans\n",
        "import numpy as np\n",
        "\n",
        "# Sample data\n",
        "data = np.array([pcaEmbeddings[w] for w in pcaEmbeddings])\n",
        "\n",
        "# Create a KMeans object with the desired number of clusters\n",
        "kmeans = KMeans(n_clusters=100)\n",
        "\n",
        "# Fit the KMeans model to the data\n",
        "kmeans.fit(data)\n",
        "\n",
        "# Retrieve the cluster labels and cluster centers\n",
        "labels = kmeans.labels_\n",
        "centers = kmeans.cluster_centers_\n",
        "\n",
        "# Print the cluster labels and cluster centers\n",
        "print(\"Cluster Labels:\", labels)"
      ],
      "metadata": {
        "colab": {
          "base_uri": "https://localhost:8080/"
        },
        "id": "yWmOEeynQuuN",
        "outputId": "8584589c-41fc-4033-b52a-afad93e02408"
      },
      "execution_count": null,
      "outputs": [
        {
          "output_type": "stream",
          "name": "stderr",
          "text": [
            "/usr/local/lib/python3.10/dist-packages/sklearn/cluster/_kmeans.py:870: FutureWarning: The default value of `n_init` will change from 10 to 'auto' in 1.4. Set the value of `n_init` explicitly to suppress the warning\n",
            "  warnings.warn(\n"
          ]
        },
        {
          "output_type": "stream",
          "name": "stdout",
          "text": [
            "Cluster Labels: [39 88 20 ... 54  9 98]\n"
          ]
        }
      ]
    },
    {
      "cell_type": "code",
      "source": [
        "wordList = [w for w in pcaEmbeddings]"
      ],
      "metadata": {
        "id": "DzW15ZECQwml"
      },
      "execution_count": null,
      "outputs": []
    },
    {
      "cell_type": "code",
      "source": [
        "clusters = defaultdict(list)\n",
        "\n",
        "for i in range(len(labels)):\n",
        "    clusters[labels[i]].append(wordList[i])\n",
        "\n",
        "for i in range(100):\n",
        "    print(\"Cluster \", i, \" :- \", clusters[i])"
      ],
      "metadata": {
        "colab": {
          "base_uri": "https://localhost:8080/"
        },
        "id": "d4eoElzAmXoh",
        "outputId": "62bbd224-c8c1-4710-bf76-77a2ce20b743"
      },
      "execution_count": null,
      "outputs": [
        {
          "output_type": "stream",
          "name": "stdout",
          "text": [
            "Cluster  0  :-  ['end']\n",
            "Cluster  1  :-  ['considered', 'paid', 'carried', 'remained', 'raised', 'remembered', 'sight', 'index', 'picked', 'believed', 'failed', 'universe', 'rain', 'ordered', 'realized', 'directed', 'starting', 'flow', 'passing', 'dream', 'broken', 'keeping', 'liked', 'enjoyed', 'joined', 'regarded', 'wished', 'phone', 'faced', 'bitter', 'assigned', 'troops', 'breakfast', 'laughed', 'operator', 'grand', 'integration', 'denied', 'congregation', 'insurance', 'identified', 'offers', 'ice', 'liquor', 'brings', 'defined', 'handed', 'glad', 'innocent', 'wise', 'managed', 'nationalism', 'performed', 'jumped', 'disappeared', 'sending', 'tells', 'succeeded', 'rejected', 'attempted', 'namely', 'allowing', 'impressed', 'dawn', 'eager', 'scope', 'conceived', 'pointing', 'mount', 'stockholders', 'emerged', 'abandoned', 'accused', 'grateful', 'criminal', 'nearest', 'access', 'stupid', 'worn', 'exercises', 'expects', 'rhythm', '0', 'keeps', 'suspected', 'inclined', 'lowered', 'respectable', 'ranks', 'packed', 'companion', 'slip']\n",
            "Cluster  2  :-  ['states', 'least', 'ago', 'persons', 'dollars', 'thousand', 'units', 'approximately', 'families', 'yards', 'billion', 'dollar', 'shares', 'pounds', 'acres', 'seconds']\n",
            "Cluster  3  :-  ['friends', 'especially', 'friend', 'works', 'relations', 'usual', 'tradition', 'records', 'shape', 'looks', 'memory', 'weather', 'homes', 'novel', 'necessarily', 'employment', 'luck', 'drama', 'whenever', 'tonight', 'bringing', 'definition', 'fellowship', 'sounded', 'grade', 'bus', 'classical', 'dancers', 'promote', 'marks', 'mighty', 'cow', 'prayer', 'publicity', 'mutual', 'meals', 'insure', 'suited', 'intentions', 'physically']\n",
            "Cluster  4  :-  ['house', 'room', 'door', 'car', 'office', 'street', 'front', 'stood', 'hall', 'sat', 'window', 'plane', 'mouth', 'trees', 'sea', 'cover', 'enemy', 'newspaper', 'desk', 'safe', 'truck', 'windows', 'panels', 'shut', 'restaurant', 'doors', 'counter', 'barn', 'refrigerator']\n",
            "Cluster  5  :-  ['figure', 'class', 'type', '1960', 'cent', 'nearly', '1961', 'daily', '8', '7', 'shows', '1958', 'stations', 'procedure', 'page', '9', '16', 'item', 'percent', '17', 'inch', 'stems', '1952', 'pound', 'tons', 'lb', 'cents', 'roughly', 'cm', 'pitch', 'milligrams', 'sauce', 'mustard']\n",
            "Cluster  6  :-  ['god', 'deal', 'nation', 'size', 'p', 'length', 'obviously', 'mass', 'extent', 'democratic', 'distance', 'importance', 'stress', 'poet', 'project', 'success', 'loss', 'variety', 'collection', 'spread', 'event', 'difficulty', 'leader', 'powers', 'evil', 'detail', 'beauty', 'danger', 'revolution', 'ends', 'achievement', 'appeal', 'fund', 'equally', 'pleasure', 'minds', 'task', 'orchestra', 'circle', 'advance', 'parties', 'stone', 'majority', 'artist', 'confidence', 'sounds', 'risk', 'symbol', 'crowd', 'trust', 'surprise', 'player', 'waves', 'expense', 'northern', 'periods', 'difficulties', 'losses', 'weakness', 'wave', 'prime', 'approached', 'terrible', 'burden', 'comfort', 'sufficiently', 'distinguished', 'skill', 'favorite', 'newspapers', 'clouds', 'blocks', 'error', 'revenue', 'dignity', 'roles', 'presents', 'debate', 'excitement', 'conception', 'dancer', 'structures', 'sacrifice', 'contributions', 'merit', 'precious', 'magnitude', 'talents', 'advantages', 'kingdom', 'disaster', 'acquired', 'bearing', 'parade', 'conductor', 'harm', 'fortune', 'tribute', 'realism', 'actor', 'strategic', 'guys', 'expectations', 'noble', 'unexpected', 'gulf', 'empire', 'architect', 'successes', 'forests', 'tsunami', 'stake', 'purchased', 'whip', 'affects', 'flood']\n",
            "Cluster  7  :-  ['table', 'earth', 'square', 'bed', 'arms', 'corner', 'sun', 'station', 'played', 'built', 'arm', 'famous', 'carefully', 'patient', 'broad', 'apartment', 'neck', 'buildings', 'horses', 'camp', 'rock', 'dogs', 'league', 'plays', 'beat', 'chair', 'hung', 'grew', 'neighborhood', 'spot', 'wheel', 'fort', 'wagon', 'shoulders', 'throat', 'royal', 'liquid', 'bonds', 'chamber', 'mold', 'mostly', 'kids', 'switch', 'tour', 'coat', 'reaching', 'wire', 'thrown', 'sharply', 'temple', 'edges', 'swimming', 'cash', 'vehicle', 'knee', 'badly', 'bent', 'naval', 'harmony', 'branch', 'burst', 'gathered', 'slipped', 'circles', 'damn', 'gallery', 'saline', 'belt', 'glasses', 'scenes', 'warmth', 'hanging', 'ranch', 'hang', 'noon', 'pulling', 'glanced', 'wildly', 'tractor', 'midnight', 'luncheon', 'historic', 'bowl', 'bases', 'flower', 'planets', 'servants', 'traveled', 'halfway', 'loyalty', 'mess', 'dressing', 'breathing', '1949', 'chapel', 'tent', 'jungle', 'peered', 'camps', 'drank', 'cottage', 'rolling']\n",
            "Cluster  8  :-  ['care', 'hour', 'association', 'charge', 'couple', 'eye', 'gun', 'deep', 'cattle', 'ship', 'coffee', 'telephone', 'bottle', 'twice', 'brief', 'advantage', 'foot', 'signs', 'animal', 'pictures', 'forest', 'search', 'repeated', 'snow', 'granted', 'minute', 'extended', 'huge', 'marine', 'breath', 'stream', 'count', 'mile', 'anyway', 'seriously', 'salt', 'pocket', 'cup', 'origin', 'route', 'pace', 'raw', 'guns', 'darkness', 'drawing', 'track', 'sons', 'instant', 'visitors', 'beer', 'fish', 'openly', 'fishing', 'winning', 'invariably', 'root', 'residence', 'delight', 'bare', 'samples', 'journey', 'upstairs', 'pistol', 'exact', 'enemies', '28', 'partially', 'swing', 'chances', 'zero', 'skirt', 'sheriff', 'grip', 'merchant', 'impulse', 'awake', 'stroke', 'overnight', 'livestock']\n",
            "Cluster  9  :-  ['fact', 'though', 'possible', 'change', 'necessary', 'subject', 'difficult', 'likely', 'certainly', 'due', 'continued', 'effective', 'direct', 'respect', 'lack', 'considerable', 'successful', 'significant', 'appears', 'interesting', 'indicate', 'maximum', 'fair', 'positive', 'sharp', 'naturally', 'initial', 'characteristic', 'excellent', 'substantial', 'typical', 'reasonable', 'sufficient', 'dramatic', 'soft', 'slow', 'sexual', 'useful', 'conventional', 'impressive', 'partly', 'remarkable', 'equivalent', 'reduction', 'varying', 'exists', 'comparable', 'striking', 'satisfactory', 'represent', 'deeper', 'definite', 'routine', 'producing', 'logical', 'vary', 'favorable', 'surprising', 'unconscious', 'consistent', 'worthy', 'profound', 'probable', 'flexible', 'meaningful', 'relevant', 'arbitrary', 'reliable', 'acceptable', 'pertinent', 'heroic', 'strongest', 'tangible', 'startling']\n",
            "Cluster  10  :-  ['af', 'mr', 'american', 'mrs', 'dont', 'didnt', 'john', 'york', 'im', 'c', 'washington', 'english', 'america', 'dr', 'thats', 'b', 'couldnt', 'cant', 'st', 'congress', 'wasnt', 'england', 'youre', 'william', 'christian', 'kennedy', 'french', 'southern', 'george', 'wouldnt', 'soviet', 'j', 'e', 'mans', 'hes', 'ive', 'de', 'oh', 'aj', 'europe', 'british', 'corps', 'theres', 'negro', 'wont', 'id', 'thomas', 'rhode', 'charles', 'james', 'sunday', 'r', 'june', 'hadnt', 'chicago', 'hed', 'communist', 'christ', 'isnt', 'f', 'americans', 'h', 'lord', 'jack', 'mike', 'youll', 'w', 'london', 'moreover', 'doesnt', 'bottom', 'mary', 'german', 'catholic', 'henry', 'robert', 'germany', 'providence', 'russian', 'sam', 'shed', 'l', 'jr', 'u', 'virginia', 'france', 'november', 'louis', 'berlin', 'n', 'jewish', 'lets', 'contrast', 'jones', 'fig', 'texas', 'russia', 'morgan', 'april', 'richard', 'mercer', 'du', 'san', 'rome', 'china', 'monday', 'paris', 'khrushchev', 'saturday', 'background', 'youve', 'july', 'pm', 'besides', 'hanover', 'attorney', 'un', 'jesus', 'phil', 'california', 'theyre', 'laos', 'tom', 'parker', 'senate', 'december', 'wilson', 'european', 'boston', 'greek', 'friday', 'la', 'negroes', 'bible', 'tree', 'painting', 'tuesday', 'dallas', 'v', 'g', 'india', 'hence', 'lewis', 'roman', 'etc', 'wondered', 'replied', 'uncle', 'congo', 'shook', 'september', 'palmer', 'chinese', 'spite', 'joe', 'martin', 'joseph', 'britain', 'properly', 'jews', 'republican', 'smith', 'hudson', 'massachusetts', 'co', 'absence', 'january', 'august', 'japanese', 'whats', 'disease', 'motors', 'gods', 'alfred', 'indian', 'david', 'october', 'arthur', 'warren', 'los', 'protestant', 'institute', 'latin', 'eisenhower', 'philadelphia', 'angeles', 'constitution', 'roberts', 'screen', 'mantle', 'charlie', 'q', 'shes', 'via', 'precisely', 'hearst', 'cuba', 'moscow', 'italian', 'adams', 'soul', 'lincoln', 'georgia', 'bond', 'opposition', 'loan', 'aint', 'wright', 'fought', 'sum', 'africa', 'edward', 'pennsylvania', 'alexander', 'em', 'brain', 'february', 'lucy', 'meat', 'watson', 'cast', 'ie', 'hans', 'wisdom', 'asia', 'confusion', 'orleans', 'fired', 'sale', 'adam', 'manchester', 'mama', 'core', 'identification', 'emotions', 'environment', 'lots', 'worlds', 'anne', 'reflected', 'longrange', 'rachel', 'linda', 'removal', 'vice', 'democrats', 'writes', 'illinois', 'francisco', 'oclock', 'carl', 'sake', 'todays', 'assumption', 'pike', 'henrietta', 'kate', 'senator', 'atlantic', 'walter', 'bob', 'grace', 'winston', 'treasury', 'papa', 'pope', 'shear', 'williams', 'lawrence', 'rayburn', 'communists', 'mississippi', 'tv', 'code', 'allotment', 'maturity', 'holmes', 'furthermore', 'thompson', 'paul', 'fifth', 'robinson', 'ohio', 'indians', 'sister', 'japan', 'palace', 'piano', 'organic', 'havent', 'axis', 'onset', 'thanks', 'players', 'delivered', 'roy', 'susan', 'harbor', 'cleaning', 'colonel', 'chicken', 'illusion', 'distant', 'staining', 'assistant', 'jackson', 'intention', 'jim', 'maris', 'thank', 'peter', 'baker', 'equipped', 'arent', 'youd', 'spanish', 'host', 'coating', 'atlanta', 'sept', 'wednesday', 'meanwhile', 'harry', 'clark', 'latest', 'crime', 'pat', 'jane', 'stanley', 'tape', 'height', 'tongue', 'pont', 'calculated', 'myth', 'sequence', 'matsuo', 'dispute', '75', 'presidential', 'canada', 'harvard', 'clerk', 'johnson', 'samuel', 'lee', 'wed', 'golf', 'weve', 'juniors', 'duties', 'roll', 'hunting', 'italy', 'catholics', 'divine', 'weekend', 'thursday', 'fate', 'prince', 'interview', 'accident', 'rev', 'andy', 'unfortunately', 'rice', 'lunch', 'massive', 'symphony', 'childs', 'equation', 'rector', 'poland', 'prokofieff', 'slavery', 'chlorine', 'pathology', 'jess', 'howard', 'socalled', 'castro', 'longterm', 'harold', 'temporary', 'mills', 'van', 'theyll', 'dc', 'pa', 'survival', 'variation', 'chandler', 'stars', 'stuff', 'russians', 'eg', 'eating', 'reflection', 'gardens', 'gorton', 'emission', 'zg', 'scotty', 'curt', 'tossed', 'territory', 'panel', 'kansas', 'checked', 'bird', 'seventh', 'dave', 'barely', 'helps', 'pacific', 'et', 'studio', 'beef', 'christianity', 'respectively', 'horn', 'accordingly', 'republicans', 'sen', 'felix', 'worker', 'sheets', 'yankees', 'suspended', 'franklin', 'louisiana', 'lane', 'johnny', 'eddie', 'locked', 'ranging', 'strip', 'alex', 'theyd', 'sharpe', 'listened', 'complicated', 'shakespeare', 'cried', 'mixture', 'concentrated', 'meal', 'stable', 'stem', 'carbon', 'grinned', 'dartmouth', 'miriam', 'woodruff', 'divorce', 'davis', 'hughes', 'sherman', 'harris', 'morse', 'allied', 'southeast', 'false', 'brooklyn', 'threatened', 'testament', 'ann', 'mickey', 'silver', 'albert', 'jet', 'theatre', 'applying', 'helpful', 'solutions', 'lighted', 'eternal', 'proportion', 'ecumenical', 'ear', 'electron', 'examination', 'carleton', 'bronchial', 'brannon', 'responses', 'newly', 'calendar', 'absent', 'innocence', '35', 'irish', 'oct', 'roosevelt', '1956', '27', 'prize', 'hal', 'african', 'santa', 'dining', 'freight', 'trustees', 'mechanism', 'surfaces', 'closing', 'paused', 'mines', 'germans', 'passion', 'dried', 'hated', 'sergeant', 'polynomial', 'ramey', 'operated', 'marshall', 'prevention', 'wherever', 'womens', 'k', 'dan', 'christmas', 'festival', 'suite', 'delaware', 'greenwich', 'clayton', 'johns', 'suspicion', 'fred', 'literally', 'jefferson', 'companys', 'newport', 'wings', 'cap', 'delicate', 'antitrust', 'southerners', 'angels', 'outdoor', 'supporting', 'oral', 'julia', 'myra', 'shayne', 'cady', 'controversy', 'kennedys', 'outcome', 'parttime', 'released', 'sixth', 'mitchell', 'desperate', 'premier', 'revenues', 'al', 'contest', 'billy', 'recalled', 'overcome', 'storm', 'eileen', 'register', 'submarine', 'electricity', 'card', 'instruments', 'preferred', 'legend', 'coolidge', 'lands', 'perspective', 'marshal', 'mysterious', 'arlene', 'sarah', 'switches', 'zen', 'jew', 'palfrey', 'patchen', 'snakes', 'tangent', 'johnnie', 'urethane', 'gyro', 'ekstrohm', 'helva', 'greg', 'aug', 'houston', 'owen', 'nato', 'nixon', 'cocktail', 'jersey', 'succession', 'prospect', 'eugene', 'critic', '29', 'nick', 'star', 'wally', 'pittsburgh', 'cancer', 'pressing', 'blanche', 'northwest', 'tim', 'adult', 'dealer', 'woods', 'carolina', 'painful', 'vein', 'honey', 'twentyfive', 'exposure', 'fog', 'devil', 'continuity', 'reflect', 'transformed', 'saddle', 'penny', 'regiment', 'obanion', 'bangjensen', 'sba', 'yeah', 'alec', 'barton', 'tilghman', 'jan', 'occupation', 'subjected', 'backed', 'realization', 'fulltime', 'cited', 'puerto', 'portland', 'workshop', 'coach', 'academy', 'moore', 'hearts', 'ford', 'broadway', 'mason', 'tail', 'weekly', 'mexican', 'aimed', 'specimen', 'barrel', 'declaration', 'utopia', 'wishes', 'cycle', 'tubes', 'diffusion', 'theresa', 'savings', 'thinks', 'childrens', 'attending', 'trucks', 'gen', 'douglas', 'memorial', 'guards', 'circuit', 'stressed', '10000', 'pete', 'casey', 'bobby', 'maryland', 'giants', 'ruth', 'westminster', 'jean', 'furnished', 'resumed', 'victims', 'cleared', 'sharing', 'madison', 'spare', 'plates', 'americas', 'hollywood', 'hungry', 'illustration', 'protest', 'wake', 'sentiment', 'cat', 'browns', 'victor', 'tennessee', 'belly', 'curiosity', 'oxidation', 'imitation', 'displacement', 'whispered', 'fogg', 'antisemitism', 'maggie', 'quiney', 'spencer', 'substrate', 'pip', 'foams', 'governors', 'miller', 'obligations', 'morris', 'judges', '5000', 'strategy', 'uncertain', '600', 'patience', 'ralph', 'miami', 'plate', 'palm', 'baltimore', 'sighed', 'shouldnt', 'engagement', 'ah', 'womans', 'vienna', 'altered', 'elaine', 'blues', 'di', 'gang', 'werent', 'totally', 'tip', 'belongs', 'capabilities', 'substitute', 'savage', 'describes', 'grows', 'editors', 'lo', 'sandburg', 'motive', 'unfortunate', 'possessed', 'bother', 'preparing', 'physiological', 'alaska', 'tire', 'ft', 'herd', 'anglosaxon', 'soap', 'yelled', 'middleclass', 'refund', 'skyros', 'bobbie', 'deegan', 'merger', 'springs', 'startled', 'port', 'nov', 'detroit', 'colonial', 'screw', 'johnston', 'launched', 'michigan', '45', 'wagner', 'forming', 'rico', 'surrounded', 'congressman', 'citys', 'behalf', 'trends', '800', 'philip', 'russ', 'vernon', 'ben', 'missouri', 'despair', 'warwick', 'anniversary', 'francis', 'luxury', 'beam', 'kay', 'colorful', 'taylor', 'joyce', 'drawings', 'governing', 'wheels', 'conversion', 'crack', 'lucky', 'winds', 'heritage', 'computed', 'kings', 'ideological', 'vermont', 'urgent', 'commodities', 'indirect', 'belgians', 'katanga', 'displays', 'enjoyment', 'partisan', 'podger', 'aristotle', 'cholesterol', 'scared', 'cromwell', 'sixty', 'theoretical', 'possession', 'habits', 'dare', 'hen', 'reverend', 'mode', 'glory', 'shu', 'nuts', 'faulkner', 'bridget', 'keith', 'mars', 'utopian', 'steele', 'rang', 'maude', 'hoag', 'bdikkat', 'allen', 'el', 'feb', 'border', 'underlying', 'cape', 'confirmed', 'disposal', 'negotiations', 'sailing', 'bet', 'notte', 'conditioned', 'basically', 'manhattan', 'mathematics', 'explains', 'puts', 'tactics', 'donald', 'inc', 'directors', 'females', 'grabbed', 'florida', 'splendid', 'buck', 'arnold', 'tournament', 'loud', 'fitted', 'bundle', 'crash', 'guided', 'mechanics', 'supplement', 'foil', 'cream', 'cafe', 'hasnt', 'trap', 'figured', 'abel', 'lobby', 'renaissance', 'responded', 'vs', 'landscape', 'amazing', 'alabama', 'shadows', 'fortunately', 'endless', 'overwhelming', 'convictions', 'motives', 'tooth', 'grains', 'hatred', 'biological', 'poverty', 'authentic', 'laura', 'dolores', 'leaped', 'doc', 'transformation', 'worries', 'christs', 'bc', 'anyhow', 'probabilities', 'anticipation', 'slide', 'cathy', 'michelangelo', 'crawled', 'okay', 'borden', 'plato', 'oedipus', 'lungs', 'freddy', 'gov', 'rob', 'policeman', 'stocks', 'underground', '65', 'remainder', '2000', 'cuban', 'arkansas', 'supervision', 'continental', 'filing', 'vincent', 'salem', 'lodge', 'wiped', 'snapped', 'ray', 'frederick', 'ethics', 'calif', 'convenience', 'mens', 'railroads', 'lid', 'condemned', 'documents', 'eve', 'entries', 'wildlife', 'makers', 'demanding', 'mexico', 'ham', 'pamela', 'traveling', 'neatly', 'tensions', 'dated', 'midst', 'devotion', 'deadly']\n",
            "Cluster  11  :-  ['many', 'important', 'certain', 'different']\n",
            "Cluster  12  :-  ['law', 'board', 'court', 'committee', 'county', 'trade', 'press', 'feed', 'hospital', 'park', 'laws', 'post', 'affairs', 'campaign', 'judge', 'governments', 'official', 'claims', 'chairman', 'employees', 'officials', 'agencies', 'friendly', 'courts', 'agency', 'entitled', 'positions', 'practices', 'welfare', 'vehicles', 'boards', 'supreme', 'automobile', 'hopes', 'grant', 'offices', 'legislation', 'taxes', 'considerably', 'resulting', 'departments', 'appointed', 'prison', 'regional', 'colleges', 'steady', 'legislature', 'authorities', 'provisions', 'authorized', 'guide', 'stores', 'presently', 'financing', 'elected', 'strictly', 'grave', 'universities', 'confronted', 'protected', 'shock', 'buying', 'slave', 'sovereign', 'questioned', 'jurisdiction', 'specified', 'convention', 'shoot', 'variables', 'terror', 'contracts', 'advisory', 'depression', 'automobiles', 'boating', 'physics', 'capitol', 'panic', 'garage', 'legislators', 'hospitals', 'parks', 'relating', 'enforcement', 'commissioner']\n",
            "Cluster  13  :-  ['coming', 'passed']\n",
            "Cluster  14  :-  ['two', 'three', 'later', 'several', 'four', 'five', 'six', 'hundred', 'ten', 'earlier', 'seven', 'eight', 'nine', 'twenty', 'fifty', 'thirty', 'fifteen', '60', 'dozen', 'twelve', 'eleven', '300', 'forty', 'fourteen', '70', '400', '42']\n",
            "Cluster  15  :-  ['program', 'development', 'service', 'defense', 'labor', 'industrial', 'throughout', 'programs', 'services', 'activities', 'leaders', 'institutions', 'commercial', 'agricultural']\n",
            "Cluster  16  :-  ['sound', 'equipment', 'technical', 'radio', 'design', 'designed', 'construction', 'planned', 'academic', 'conducted', 'developing', 'devoted', 'shooting', 'expansion', 'adopted', 'recreation', 'marketing', 'experimental', 'involving', 'testing', 'entertainment', 'cooperative', 'peaceful', 'empirical']\n",
            "Cluster  17  :-  ['make', 'use', 'find', 'give', 'help', 'provide', 'meet', 'build']\n",
            "Cluster  18  :-  ['music', 'required', 'complete', 'material', 'using', 'literature', 'treatment', 'blood', 'additional', 'indicated', 'radiation', 'equal', 'adequate', 'chemical', 'detailed', 'correct', 'collected', 'extensive', 'thermal', 'covering', 'structural', 'thorough']\n",
            "Cluster  19  :-  ['took', 'although', 'began', 'gave', 'hard', 'modern', 'except', 'followed', 'fine', 'stopped', 'gives', 'becomes', 'popular', 'giving', 'opening', 'ought', 'contemporary', 'begins', 'tends']\n",
            "Cluster  20  :-  ['said', 'made', 'work', 'set', 'become', 'making', 'became']\n",
            "Cluster  21  :-  ['way', 'people', 'men', 'things', 'children', 'others']\n",
            "Cluster  22  :-  ['air', 'shown', 'described', 'gas', 'distribution', 'lives', 'traditional', 'smaller', 'selected', 'ability', 'platform', 'plus', 'communication', 'measured', 'library', 'railroad', 'requires', 'organized', 'colors', 'missile', 'universal', 'warning', 'mobile', 'external', 'replaced', 'weapon', 'cooling', 'combined', 'highway', 'composed', 'anywhere', 'derived', 'controlled', 'processing', 'serves', 'multiple', 'sympathetic', 'accurate', 'patent', 'alert', 'connected', 'elaborate', 'trail', 'muscles', 'voting', 'replace', 'measuring', 'encouraged', 'sewage', 'consisting', 'observation', 'retirement', 'promotion', 'sophisticated', 'philosophical', 'magnetic', 'heating', 'functional', 'tended', 'nervous', 'astronomy', 'mathematical', 'registration', 'agriculture', 'dedicated', 'crystal', 'doubtful', 'hypothalamic', 'inspection', 'respond', 'vacuum', 'classification', 'solve', 'dreamed']\n",
            "Cluster  23  :-  ['see', 'know', 'take', 'say', 'think', 'let', 'tell', 'keep', 'leave', 'believe', 'call', 'return', 'live', 'read', 'bring', 'talk', 'start', 'hear', 'try', 'remember', 'ask', 'stop', 'follow', 'learn', 'die', 'buy', 'join', 'explain', 'kill', 'eat', 'lose', 'guess']\n",
            "Cluster  24  :-  ['world', 'life', 'war', 'order', 'form', 'power', 'interest', 'action', 'history', 'death', 'experience', 'position', 'society', 'future', 'control', 'process', 'situation', 'nature', 'view', 'values', 'basis', 'spirit', 'feeling', 'terms', 'property', 'issue', 'knowledge', 'strength', 'direction', 'science', 'theory', 'freedom', 'meaning', 'truth', 'understanding', 'progress', 'responsibility', 'activity', 'justice', 'faith', 'existence', 'attitude', 'race', 'style', 'status', 'opinion', 'behavior', 'authority', 'leadership', 'security', 'relationship', 'philosophy', 'frame', 'resources', 'unity', 'politics', 'significance', 'intellectual', 'struggle', 'culture', 'identity', 'approval', 'acceptance', 'attitudes', 'liberty', 'recognition', 'participation', 'relationships', 'skills', 'sciences', 'emotion', 'discussions', 'purely']\n",
            "Cluster  25  :-  ['problems', 'organizations']\n",
            "Cluster  26  :-  ['hair', 'clay', 'rose', 'fresh', 'pointed', 'wine', 'faces', 'dust', 'clean', 'dress', 'beneath', 'hat', 'wood', 'gold', 'wooden', 'brilliant', 'hills', 'tiny', 'suit', 'skin', 'sheet', 'snake', 'dirt', 'cloth', 'golden', 'bread', 'furniture', 'cotton', 'ears', 'jacket', 'falling', 'coal', 'plastic', 'lightly', 'perfectly', 'shorts', 'powder', 'surrounding', 'shirt', 'beard', 'suits', 'faint', 'wines', 'leather', 'orange', 'tie', 'masses', 'marble', 'monument', 'gentlemen', 'tones', 'boots', 'string']\n",
            "Cluster  27  :-  ['island', 'audience', 'nuclear', 'favor', 'region', 'store', 'box', 'article', 'flat', 'answered', 'object', 'objects', 'bodies', 'shop', 'domestic', 'grow', 'weapons', 'garden', 'nose', 'hole', 'firms', 'bay', 'inner', 'manufacturers', 'centers', 'lake', 'negative', 'band', 'theater', 'sports', 'safety', 'curious', 'tables', 'diameter', 'amounts', 'pilot', 'odd', 'concerns', 'customers', 'particles', 'arc', 'display', 'notion', 'attractive', 'magazine', 'holes', 'handling', 'pleasant', 'contribution', 'atom', 'plot', 'bomb', 'tough', 'crew', 'dirty', 'bench', 'lumber', 'tools', 'quantity', 'selling', '500', 'wars', 'cloud', 'happening', 'pot', 'placing', 'shopping', 'flew', 'fiber', 'assist', 'bath', 'ward', 'pack', 'factories', 'cheap', 'fraction', 'cabin', 'craft', 'fibers', 'adding', 'merchants', 'sampling', 'hotels', 'flash', 'pools', 'protein', 'particle', 'occurring', 'trim', 'minority', 'suitcase', 'shops', 'businesses']\n",
            "Cluster  28  :-  ['example', 'show', 'study', 'plan', 'report', 'statement', 'changes', 'manner', 'immediately', 'council', 'studies', 'conference', 'highly', 'discussion', 'practice', 'purposes', 'failure', 'facts', 'expression', 'tone', 'election', 'exchange', 'statements', 'experiments', 'closely', 'orders', 'description', 'papers', 'elections', 'passage', 'testimony', 'movements', 'comment', 'regarding', 'criticism', 'survey', 'adjustment', 'instructions', 'tube', 'recovery', 'shade', 'reorganization', 'pulmonary', 'enthusiastic', 'announcement', 'suggestions', 'killing', 'summary', 'intervention', 'fantastic', 'discharge']\n",
            "Cluster  29  :-  ['individual']\n",
            "Cluster  30  :-  ['years', 'days', 'times', 'feet', 'past', 'million', 'minutes', 'months', 'hours', 'miles', 'weeks', 'inches']\n",
            "Cluster  31  :-  ['1', '3']\n",
            "Cluster  32  :-  ['areas', 'lines', 'conditions', 'countries', 'cases', 'points', 'ideas', 'methods', 'ways', 'forms', 'types', 'parts', 'effects', 'elements', 'factors', 'reasons', 'events', 'places', 'techniques', 'require', 'classes', 'circumstances', 'features', 'separate', 'fields', 'principles', 'sections', 'issues', 'properties', 'jobs', 'aspects', 'procedures', 'characteristics', 'situations', 'functions', 'models', 'qualities', 'errors', 'regions', 'objectives', 'kinds', 'species', 'considerations', 'instances', 'absolutely', 'phenomena', 'phases']\n",
            "Cluster  33  :-  ['public', 'foreign', 'financial']\n",
            "Cluster  34  :-  ['enough', 'head', 'full', 'surface', 'cold', 'suddenly', 'hot', 'ball', 'firm', 'clothes', 'knife', 'settled', 'warm', 'cool', 'onto']\n",
            "Cluster  35  :-  ['hand', 'far', 'side', 'country', 'south', 'west', 'town', 'north', 'top', 'road', 'started', 'cut', 'east', 'moved', 'looking', 'river', 'wall', 'walked', 'ran', 'running', 'march', 'moving', 'pool', 'waiting', 'closed', 'drive', 'covered', 'walk', 'glass', 'fell', 'base', 'kitchen', 'bank', 'opposite', 'edge', 'beside', 'laid', 'anode', 'upper', 'pulled', 'valley', 'hill', 'forth', 'walls', 'drew', 'dry', 'block', 'narrow', 'coast', 'beach', 'streets', 'shore', 'travel', 'somewhere', 'headed', 'roof', 'entrance', 'seat', 'walking', 'pushed', 'driving', 'chest', 'bedroom', 'rear', 'rolled', 'swung', 'trend', 'avenue', 'threw', 'driven', 'path', 'climbed', 'brush', 'mountains', 'porch', 'virtually', 'stepped', 'rode', 'neutral', 'leaned', 'moves', 'yard', 'swept', 'stretched', 'parked', 'farther', 'heading', 'fence', 'cuts', 'horizon', 'slid', 'deck', 'hurried', 'stumbled', 'brushed', 'slope']\n",
            "Cluster  36  :-  ['general', 'business', 'social', 'present', 'national', 'human', 'political', 'economic', 'religious', 'international', 'physical', 'scientific', 'musical', 'cultural']\n",
            "Cluster  37  :-  ['like', 'good', 'better', 'best', 'real', 'true', 'strong']\n",
            "Cluster  38  :-  ['yes', 'doubt', 'analysis', 'regard', 'captain', 'bar', 'formed', 'aside', 'asking', 'cutting', 'benefit', 'rifle', 'relation', 'speaking', 'careful', 'acting', 'speech', 'birds', 'exist', 'smile', 'flowers', 'apart', 'goods', 'becoming', 'finding', 'sin', 'depth', 'telling', 'investigation', 'knowing', 'limit', 'drinking', 'provision', 'prior', 'nearby', 'humor', 'stairs', 'interference', 'changing', 'accomplished', 'suffering', 'answers', 'dealing', 'threat', 'limits', 'exception', 'necessity', 'reception', 'destruction', 'effectively', 'tremendous', 'noise', 'license', 'visiting', 'stored', 'blame', 'visible', 'guilt', 'determining', 'damage', 'fly', 'substance', 'awareness', 'partner', 'collective', 'reducing', 'letting', 'locking', 'basement', 'widespread', 'medicine', 'excessive', 'altogether', 'tea', 'prestige', 'losing', 'wound', 'offering', 'colony', 'excuse', 'verse', 'paying', 'inherent', 'cellar', 'constitutional', 'torn', 'impressions', 'ritual', 'responsibilities', 'destructive', 'arrive', 'firing', 'amendment', 'justified', 'continuously', 'trace', 'radar', 'relatives', 'conspiracy', 'delay', 'questioning', 'races', 'crossing', 'pause', 'bullets', 'diet', 'intermediate', 'enforced', 'clock', 'mercy', 'notable', 'wit', 'invention', 'solved', 'guitar', 'lap']\n",
            "Cluster  39  :-  ['one', 'first', 'long', 'another', 'last', 'since', 'every', 'next', 'second', 'early', 'following', 'short', 'third', 'single', 'final']\n",
            "Cluster  40  :-  ['schools', 'needed', 'provided', 'fiscal', 'facilities', 'proper', 'civil', 'provides', 'rights', 'vocational', 'interior', 'completed', 'policies', 'projects', 'credit', 'concerning', 'feelings', 'uses', 'unique', 'improved', 'advanced', 'cooperation', 'television', 'desired', 'formal', 'purchase', 'supplies', 'residential', 'ballet', 'mental', 'involves', 'guidance', 'emergency', 'regardless', 'reserve', 'camera', 'unions', 'plastics', 'expert', 'skilled', 'ethical', 'aids', 'exclusive', 'optimal', 'clinical', 'establishing', 'instruction', 'coverage', 'consisted', 'employee', 'inventory', 'rehabilitation', 'balanced', 'valid', 'revolutionary', 'crop', 'whereby']\n",
            "Cluster  41  :-  ['level', 'ground', 'pressure', 'pay', 'temperature', 'somewhat', 'degree', 'standard', 'rates', 'energy', 'heat', 'weight', 'produced', 'relatively', 'capacity', 'speed', 'slightly', 'junior', 'gain', 'standards', 'command', 'compared', 'levels', 'impact', 'resolution', 'prices', 'fairly', 'intensity', 'content', 'extremely', 'concentration', 'percentage', 'spirits', 'salary', 'excess', 'wages', 'anxiety', 'transfer', 'mood', 'accuracy', 'ratio', 'yield', 'probability', 'output', 'spots', 'strain', 'density', 'ceiling', 'frequencies', 'flux', 'suburban', 'morality', 'sensitivity', 'temperatures', 'velocity', 'allowances', 'cigarette', 'encouraging', 'grades', 'frequency', 'loop', 'verbal', 'binding', 'input', 'consistently', 'crown', 'ambition']\n",
            "Cluster  42  :-  ['company', 'field', 'department', 'center', 'party', 'union', 'member', 'army', 'piece', 'hotel', 'test', 'image', 'account', 'share', 'sign', 'battle', 'file', 'trip', 'solid', 'legal', 'boat', 'powerful', 'drop', 'formula', 'sample', 'theme', 'engine', 'vacation', 'author', 'curve', 'consists', 'tend', 'shift', 'automatic', 'tool', 'finger', 'joint', 'hydrogen', 'outstanding', 'wash', 'filling', 'binomial', 'measurement', 'gift', 'scheme', 'bone', 'biggest', 'manufacturer', 'planetary', 'package', 'span']\n",
            "Cluster  43  :-  ['various']\n",
            "Cluster  44  :-  ['mother', 'child', 'women', 'son', 'sort', 'police', 'story', 'addition', 'reading', 'former', 'husband', 'hell', 'letters', 'officer', 'doctor', 'manager', 'yesterday', 'teacher', 'lady', 'turning', 'writer', 'brother', 'sweet', 'jury', 'mothers', 'minister', 'stories', 'notes', 'guy', 'firmly', 'driver', 'quietly', 'lawyer', 'editorial', 'constantly', 'personally', 'stranger', 'mayor', 'simultaneously', 'briefly', 'navy', 'smiling', 'reporters', 'bride', 'softly', 'gently', 'proposals', 'promptly', 'laughing', 'injury', 'approaching', 'customer', 'repeat', 'patrol', 'sheep', 'voluntary', 'witnesses', 'shaking', 'detectives', 'blonde', 'reporter', 'happily', 'folks', 'shocked']\n",
            "Cluster  45  :-  ['cost', 'rate', 'value', 'costs', 'market', 'production', 'population', 'average', 'price', 'unit', 'annual', 'potential', 'oxygen', 'enormous', 'substantially']\n",
            "Cluster  46  :-  ['back', 'around', 'home', 'upon', 'away', 'toward', 'along', 'across', 'together', 'behind', 'close', 'near', 'alone', 'finally', 'beyond', 'inside', 'forward', 'slowly', 'straight', 'ahead', 'quickly', 'fast', 'rapidly', 'towards', 'closer']\n",
            "Cluster  47  :-  ['family', 'college', 'university', 'private', 'space', 'industry', 'administration', 'building', 'according', 'district', 'farm', 'main', 'staff', 'jazz', 'management', 'proposed', 'operations', 'immediate', 'economy', 'follows', 'faculty', 'membership', 'teachers', 'shelter', 'career', 'teaching', 'located', 'internal', 'setting', 'baseball', 'machines', 'agent', 'expensive', 'legislative', 'male', 'affair', 'electronics', 'competitive', 'graduate', 'diplomatic', 'expanding', 'racial', 'exploration', 'civilian', 'manufacturing', 'civic', 'repair', 'venture', 'employers']\n",
            "Cluster  48  :-  ['united', 'peace', 'heart', 'particularly', 'fear', 'whatever', 'greatest', 'pain', 'touch', 'youth', 'capable', 'truly', 'wonderful', 'slight', 'proud', 'sorry', 'anger', 'superior', 'funny', 'intense', 'joy', 'deeply', 'strongly', 'stomach', 'calm', 'sad', 'seldom', 'weak', 'guilty', 'satisfaction', 'utterly', 'frozen', 'attached', 'lonely', 'subtle', 'lift', 'aunt', 'uneasy', 'stiff', 'obliged', 'shame', 'certainty', 'thereafter']\n",
            "Cluster  49  :-  ['hold', 'rest', 'stand', 'neither', 'understand', 'continue', 'serve', 'determine', 'write', 'reach', 'fight', 'wait', 'remain', 'develop', 'carry', 'add', 'check', 'break', 'prevent', 'produce', 'enter', 'permit', 'allow', 'seek', 'escape', 'reduce', 'save', 'maintain', 'establish', 'remove', 'avoid', 'draw', 'win', 'pick', 'attend', 'create', 'handle', 'prove', 'spend', 'raise', 'achieve', 'pull', 'fill', 'operate', 'encourage', 'enjoy', 'obtain', 'teach', 'sell', 'match', 'describe', 'decide', 'discover', 'improve', 'finish', 'push', 'preserve', 'prepare', 'protect', 'examine', 'secure', 'demonstrate', 'laugh', 'acquire', 'appreciate', 'identify', 'compete', 'settle', 'enable', 'desperately', 'attain']\n",
            "Cluster  50  :-  ['new', 'personal', 'particular']\n",
            "Cluster  51  :-  ['total', 'increased', 'increasing']\n",
            "Cluster  52  :-  ['miss', 'result', 'seem', 'able', 'expected', 'indeed', 'answer', 'cause', 'lead', 'consider', 'appear', 'wish', 'speak', 'expect', 'supply', 'claim', 'suppose', 'pass', 'otherwise', 'begin', 'fully', 'receive', 'treated', 'send', 'nevertheless', 'rule', 'accept', 'realize', 'willing', 'wonder', 'happen', 'assume', 'please', 'recognize', 'possibly', 'imagine', 'notice', 'lie', 'apply', 'unable', 'suggest', 'interpretation', 'forget', 'silence', 'listen', 'agree', 'mention', 'choose', 'strike', 'noticed', 'destroy', 'cry', 'maintained', 'deny', 'surely', 'referred', 'contain', 'saved', 'separated', 'warfare', 'occur', 'catch', 'readily', 'hate', 'afford', 'missed', 'focus', 'gained', 'forever', 'recall', 'inevitably', 'fail', 'hurt', 'admit', 'constructed', 'affected', 'satisfied', 'wear', 'affect', 'installed', 'smell', 'reasonably', 'survive', 'adjusted', 'suffer', 'involve', 'extend', 'composer', 'suspect', 'historian', 'argued', 'ignored', 'perform', 'builder', 'argue', 'encounter', 'compare', 'examined', 'arise', 'commander', 'discuss', 'cure', 'gentleman', 'prefer', 'define', 'imagined', 'prevented', 'handled', 'entry', 'treat', 'justify', 'recommend', 'observe', 'accomplish', 'scarcely', 'sitter', 'farmer', 'dealt', 'convenient', 'loaded', 'resist', 'eliminated', 'alienation', 'associate', 'cope', 'unlikely', 'urge', 'persuaded', 'rent', 'converted', 'manage', 'pursue', 'avoided', 'rid']\n",
            "Cluster  53  :-  ['without', 'however', 'rather']\n",
            "Cluster  54  :-  ['born', 'older', 'watched', 'rich', 'fighting', 'responsible', 'waited', 'leading', 'wore', 'animals', 'armed', 'finds', 'surprised', 'plenty', 'tall', 'dear', 'sick', 'female', 'tired', 'cook', 'honest', 'mere', 'native', 'riding', 'younger', 'flying', 'grown', 'lifted', 'unlike', 'suffered', 'muscle', 'bound', 'musicians', 'engineer', 'continues', 'remaining', '31', 'handsome', 'contributed', 'mad', 'mystery', 'ladies', 'drunk', 'football', 'lying', 'dressed', '1000', 'bigger', '19', 'fallen', 'dying', 'advised', 'healthy', 'shouting', 'remarked', 'courage', 'naked', 'conservative', 'knocked', 'mature', 'colored', 'troubled', 'sponsored', 'nowhere', 'poured', 'sang', 'anxious', 'fled', 'magnificent', 'intelligent', 'unhappy', 'lawyers', 'invited', 'frightened', 'aboard', 'reaches', 'attacked', 'hired', 'seventeen', 'charming', 'brave', 'registered', 'attempting', '34', 'wounded', '80', 'moderate', 'chart', 'participate', 'wealth', 'destiny', 'fortunate', 'saving', 'hesitated', 'killer', 'loves', 'orderly', 'greeted', 'decent', 'pioneer', 'hidden', 'gather', 'alike', 'sixteen', 'specialists', 'arrested', 'lacked', 'delivery', 'ridiculous']\n",
            "Cluster  55  :-  ['secretary', 'club', 'character', 'concern', 'names', 'corporation', 'houses', 'individuals', 'requirements', 'interests', 'presence', 'items', 'daughter', 'kid', 'taste', 'soldiers', 'solution', 'advice', 'estate', 'views', 'uniform', 'pride', 'reactions', 'seeds', 'downtown', 'smoke', 'goals', 'islands', 'talent', 'conscience', 'glance', 'soldier', 'attempts', 'feature', 'profession', 'images', 'paintings', 'beings', 'fruit', 'lists', 'mechanical', 'returns', 'funeral', 'associations', 'outer', 'drivers', 'movie', 'signals', 'designs', 'tight', 'judgments', 'gentle', 'foundations', 'climate', 'widow', 'delightful', 'demonstration', 'correspondence', 'component', 'beliefs', 'dances', 'assessment', 'stern', 'giant', 'publications', 'genius', 'fault', 'pitcher', 'painter', 'melody', 'founded', 'creatures', 'slender', 'toes', 'label']\n",
            "Cluster  56  :-  ['members', 'students', 'nations', 'western', 'reaction', 'middle', 'cars', 'agreement', 'citizens', 'subjects', 'team', 'cells', 'village', 'competition', 'vast', 'motor', 'executive', 'divided', 'experiences', 'conflict', 'ships', 'thousands', 'target', 'slaves', 'listed', 'neighbors', 'hardy', 'representatives', 'queen', 'seed', 'laboratory', 'shared', 'primitive', 'formation', 'returning', 'consequences', 'folk', 'performances', 'factory', 'shell', 'initiative', 'masters', 'consequence', 'shapes', 'enthusiasm', 'libraries', 'distributed', 'restrictions', 'roots', 'traders', 'pupils', 'ruling', 'rank', 'neighboring', 'honored', 'prisoners', 'colleagues', 'assessors', 'chiefly', 'hide', 'alliance', 'whites', 'realtors', 'respective', 'achievements']\n",
            "Cluster  57  :-  ['increase', 'growth', 'food', 'bill', 'plant', 'operation', 'income', 'materials', 'balance', 'operating', 'capital', 'reduced', 'personnel', 'increases', 'traffic', 'minimum', 'estimated', 'maintenance', 'rising', 'greatly', 'providing', 'tension', 'wage', 'efficiency', 'advertising', 'tendency', 'milk', 'expenses', 'engineering', 'expenditures', 'technology', 'rapid', 'ease', 'proposal', 'storage', 'spending', 'desegregation', 'consumer', 'thyroid', 'variable', 'net', 'matching', 'effectiveness', 'household', 'decline', 'absolute', 'fees', 'extending', 'transferred', 'drying', 'profit', 'municipal', 'textile', 'surplus', 'grain', 'marginal', 'feeding', 'disk', 'estimates', 'anticipated', 'monthly', 'overseas', 'grants', 'procurement', 'prospective', 'retail', 'earnings', 'gains']\n",
            "Cluster  58  :-  ['state', 'school', 'government', 'federal', 'policy', 'education', 'tax', 'support', 'research', 'aid', 'sales', 'current', 'funds', 'assistance', 'existing', 'budget', 'housing', 'administrative', 'transportation', 'investment', 'scholarship', 'finance', 'utility']\n",
            "Cluster  59  :-  ['came', 'right', 'found', 'went', 'got', 'left', 'going']\n",
            "Cluster  60  :-  ['art', 'determined', 'original', 'objective', 'poetry', 'marked', 'offer', 'literary', 'address', 'discovered', 'somehow', 'independent', 'appropriate', 'highest', 'experiment', 'ideal', 'text', 'perfect', 'dictionary', 'represented', 'pure', 'motion', 'publication', 'resistance', 'representative', 'electrical', 'fiction', 'opinions', 'iron', 'bag', 'journal', 'distinct', 'permanent', 'represents', 'contains', 'printed', 'symbolic', 'sugar', 'abstract', 'leads', 'precise', 'transition', 'fallout', 'poetic', 'radical', 'modest', 'constitute', 'peculiar', 'theological', 'lively', 'composition', 'continually', 'democracy', 'narrative', 'regime', 'governmental', 'substances', 'socialist', 'dynamic', 'punishment', 'linear', 'telegraph', 'socialism', 'nude', 'corporate']\n",
            "Cluster  61  :-  ['questions', 'systems', 'books', 'churches', 'workers', 'sources', 'reports', 'studied', 'writers', 'actions', 'frank', 'artists', 'songs', 'contained', 'mine', 'causes', 'details', 'patients', 'peoples', 'components', 'moments', 'trained', 'bills', 'foods', 'millions', 'overall', 'charges', 'hundreds', 'farmers', 'presidents', 'varied', 'possibilities', 'societies', 'communities', 'readers', 'languages', 'prominent', 'agents', 'bars', 'owners', 'guest', 'accounts', 'experts', 'industries', 'cards', 'engineers', 'characters', 'scientists', 'retired', 'dealers', 'keys', 'benefits', 'clubs', 'campus', 'branches', 'demonstrated', 'builders', 'husbands', 'articles', 'authors', 'directions', 'encountered', 'volunteers', 'tasks', 'regulations', 'critics', 'quarters', 'scattered', 'bridges', 'conferences', 'exceptions', 'souls', 'qualified', 'channels', 'chairs', 'variations', 'rocks', 'historians', 'sponsor', 'troubles', 'fans', 'respects', 'observers', 'crises', 'characterized', 'competent', 'listeners', 'intimate', 'traditions', 'committees', 'residents', 'secrets', 'passages', 'styles', 'fats', 'fires', 'interviews', 'youngsters']\n",
            "Cluster  62  :-  ['even', 'much', 'little', 'less']\n",
            "Cluster  63  :-  ['also', 'well', 'almost', 'yet', 'thus', 'either', 'words', 'already', 'soon', 'simply', 'actually', 'directly', 'clearly', 'recently', 'easily']\n",
            "Cluster  64  :-  ['given', 'taken', 'seen', 'available', 'known', 'developed', 'reached', 'received', 'written', 'concerned', 'placed', 'reported', 'obtained', 'include', 'established', 'prepared', 'related', 'entered', 'accepted', 'changed', 'noted', 'caused', 'published', 'presented', 'created', 'mentioned', 'removed', 'discussed', 'achieved', 'understood', 'begun', 'issued', 'considering', 'admitted', 'arranged', 'recorded', 'approved', 'existed', 'revealed', 'forgotten', 'signed', 'supplied', 'gathering', 'quoted', 'assembled', 'resolved']\n",
            "Cluster  65  :-  ['including', 'boys', 'girls', 'steps', 'figures', 'officers', 'sides', 'principal', 'pieces', 'companies', 'fingers', 'towns', 'sets', 'courses', 'games', 'rooms', 'runs', 'brothers', 'examples', 'ages', 'nights', 'centuries', 'containing', 'volumes', 'heads', 'trials', 'districts', 'columns', 'counties', 'bombs', 'eggs', 'decades', 'pages', 'representing', 'dimensions', 'shots', 'trips', 'sand', 'voted', 'marriages', 'sessions', 'frames', 'concerts', 'planes', 'teams', 'rifles', 'generations', 'categories', 'novels', 'degrees', 'lengths', 'hits', 'occasions', 'sticks', 'drinks', 'votes', 'seasons', 'bones']\n",
            "Cluster  66  :-  ['get', 'come', 'go', 'put', 'look', 'turn', 'run', 'play', 'move', 'getting', 'stay', 'sit', 'ride', 'throw']\n",
            "Cluster  67  :-  ['whole', 'today', 'free', 'usually', 'entire']\n",
            "Cluster  68  :-  ['thought', 'knew', 'need', 'want', 'perhaps', 'quite', 'really', 'probably', 'love', 'feel', 'therefore', 'mean', 'gone', 'longer', 'else', 'trying', 'happened', 'thinking', 'bad', 'trouble', 'maybe', 'wrong', 'saying', 'none', 'hardly', 'exactly', 'everyone', 'someone', 'nobody', 'everybody', 'somebody', 'practically', 'worse', 'anybody', 'waste']\n",
            "Cluster  69  :-  ['church', 'student']\n",
            "Cluster  70  :-  ['man', 'boy', 'wife', 'woman', 'girl']\n",
            "Cluster  71  :-  ['number', 'system', 'city', 'group', 'area', 'body', 'community', 'force', 'land', 'forces', 'amount', 'range', 'stock', 'volume', 'groups', 'numbers', 'cities', 'demand', 'differences', 'portion', 'scale', 'patterns', 'pressures', 'sphere']\n",
            "Cluster  72  :-  ['information', 'data']\n",
            "Cluster  73  :-  ['time', 'day', 'year', 'night', 'week', 'moment', 'morning', 'century', 'late', 'meeting', 'fall', 'summer', 'evening', 'month', 'spring', 'visit', 'afternoon', 'season', 'winter', 'train', 'session', 'chapter', 'decade']\n",
            "Cluster  74  :-  ['age', 'date', '1959', 'announced', 'previous', 'poems', 'fourth', 'master', 'independence', 'tomorrow', 'arrived', 'ended', 'fathers', 'worry', '21', 'stages', 'childhood', '1957', '1954', 'nineteenth', 'whereas', 'indicates', 'supper', 'extension', '1962', 'meets', 'senior', 'exposed', 'worst', 'falls', 'concluded', 'romantic', 'wedding', 'skywave', 'starts', 'movies', 'ending', 'dreams', 'preceding', '1955', 'reputation', 'scholars', 'occurs', '1953', 'intervals', 'approaches', 'draft', 'eighth', 'insects', 'eighteenth', 'earliest', 'autumn', '1948', '1950', 'replacement', 'tales', 'quarrel', '1946', 'ninth', '1951', 'twentieth', '1927']\n",
            "Cluster  75  :-  ['influence']\n",
            "Cluster  76  :-  ['major', 'basic', 'essential']\n",
            "Cluster  77  :-  ['still', 'high', 'water', 'among', 'often', 'light', 'outside', 'kept', 'low', 'higher', 'lower']\n",
            "Cluster  78  :-  ['us', 'never', 'always', 'something', 'nothing', 'ever', 'anything', 'everything', 'father', 'anyone']\n",
            "Cluster  79  :-  ['effect', 'decided', 'based', 'attack', 'film', 'crisis', 'agreed', 'mission', 'secret', 'response', 'hearing', 'vote', 'dog', 'calls', 'liberal', 'lips', 'largely', 'honor', 'matters', 'belief', 'duty', 'shoulder', 'learning', 'contract', 'moon', 'judgment', 'emphasis', 'grounds', 'leg', 'exercise', 'completion', 'bear', 'cross', 'conduct', 'loose', 'chain', 'conviction', 'doctors', 'depends', 'incident', 'personality', 'concrete', 'intelligence', 'everywhere', 'violence', 'precision', 'promised', 'depend', 'calling', 'poets', 'developments', 'shoes', 'thickness', 'insisted', 'bureau', 'reader', 'touched', 'fed', 'dependent', 'proof', 'improvement', 'determination', 'severe', 'self', 'mankind', 'sudden', 'knees', 'occasional', 'automatically', '26', 'sympathy', 'worship', 'conclusions', 'shadow', 'receiving', 'frequent', 'findings', 'pencil', 'presentation', 'blow', 'mountain', 'depending', 'enterprise', 'identical', 'corporations', 'citizen', 'consciousness', 'pressed', 'maintaining', 'rendered', 'limitations', 'sovereignty', 'insist', 'bears', 'permission', 'rushed', 'chin', 'operational', 'fist', 'entering', 'recommendation', 'seized', 'norms', 'arrival', 'heels', 'reflects', 'lighting', 'assumptions', 'sixties', 'happiness', 'congressional', 'attacks', 'nerves', 'surrender', 'racing', 'backward', 'thrust', 'formulas', 'availability', 'prairie', 'sidewalk', 'reveals', 'voters', 'compromise', 'strikes', 'invitation', 'lean', 'solely', 'cheek', 'imposed', 'spell', 'insistence', 'produces', 'instantly']\n",
            "Cluster  80  :-  ['small', 'large', 'within', 'open', 'recent', 'instead', 'central', 'normal', 'wide', 'larger', 'growing', 'filled']\n",
            "Cluster  81  :-  ['military']\n",
            "Cluster  82  :-  ['old', 'young', 'white', 'big', 'whose']\n",
            "Cluster  83  :-  ['local', 'special', 'medical', 'training', 'planning', 'health', 'educational']\n",
            "Cluster  84  :-  ['beginning', 'method', 'generally', 'writing', 'latter', 'language', 'machine', 'oil', 'measure', 'frequently', 'leaving', 'governor', 'connection', 'electric', 'electronic', 'reference', 'score', 'primarily', 'heavily', 'commerce', 'previously', 'combination', 'soil', 'preparation', 'boats', 'occasionally', 'comparison', 'opera', 'instrument', 'drugs', 'washing', 'express', 'rarely', 'parallel', 'paint', 'devices', 'challenge', 'normally', 'symbols', 'corn', 'phrase', 'loans', 'cooking', 'mainly', 'successfully', 'evaluation', 'allies', 'controls', 'folklore', 'deliberately', 'blanket', 'fabrics', 'apparatus', 'commonly', 'meetings', 'formerly', 'mirror', 'refer', 'holder', 'eliminate', 'shelters', 'generous', 'detergent', 'preliminary', 'summers', 'lock', 'accurately', 'discrimination', 'burns', 'gin', 'select', 'freely', 'accepting', 'defend', 'envelope', 'emphasize', 'clothing', 'males', 'theology', 'ladder', 'caution', 'combinations']\n",
            "Cluster  85  :-  ['part', 'point', 'problem', 'question', 'reason', 'purpose', 'difference', 'effort', 'quality', 'role', 'source', 'phase', 'factor', 'victory', 'goal', 'element', 'consideration', 'aspect', 'aim']\n",
            "Cluster  86  :-  ['place', 'course', 'case', 'thing', 'mind', 'kind', 'sense', 'means', 'matter', 'name', 'word', 'money', 'job', 'voice', 'sometimes', 'evidence', 'book', 'idea', 'attention', 'hope', 'person', 'picture', 'results', 'letter', 'record', 'chance', 'lot', 'performance', 'opportunity', 'horse', 'rise', 'marriage', 'dinner', 'condition', 'drink', 'quick', 'protection', 'relief', 'message', 'signal', 'extra', 'pair', 'promise', 'impression', 'indication']\n",
            "Cluster  87  :-  ['great', 'seems', 'common', 'greater', 'makes', 'simple', 'similar', 'natural', 'involved', 'moral', 'color', 'merely', 'religion', 'serious', 'specific', 'limited', 'professional', 'actual', 'primary', 'obvious', 'complex', 'key', 'ordinary', 'constant', 'historical', 'ancient', 'practical', 'emotional', 'spiritual', 'unusual', 'extreme', 'continuing', 'ultimate', 'critical', 'vital', 'fundamental', 'creative', 'essentially', 'relative', 'intended', 'continuous', 'lies', 'urban', 'rare', 'psychological', 'corresponding', 'isolated', 'genuine', 'metropolitan', 'artistic', 'efficient', 'crucial', 'aesthetic', 'vivid', 'expressing', 'controlling', 'casual']\n",
            "Cluster  88  :-  ['would', 'could', 'may', 'must', 'might', 'whether', 'shall', 'cannot']\n",
            "Cluster  89  :-  ['needs', 'organization']\n",
            "Cluster  90  :-  ['used', 'looked', 'felt', 'hands', 'held', 'brought', 'living', 'taking', 'added', 'working', 'ready', 'comes', 'worked', 'easy', 'lived', 'returned', 'heavy', 'pretty', 'spent', 'teeth', 'bit', 'playing', 'standing', 'talking', 'meant', 'sitting', 'finished', 'seeing', 'fit', 'stayed', 'carrying', 'drawn', 'legs', 'occurred', 'helped', 'gets', 'drove', 'putting', 'sing', 'crowded', 'slept', 'stuck']\n",
            "Cluster  91  :-  ['eyes', 'face', 'turned', 'black', 'red', 'dark', 'brown', 'blue', 'green', 'thin', 'bright', 'gray', 'thick', 'pale', 'yellow', 'wet', 'pink', 'dancing', 'shining']\n",
            "Cluster  92  :-  ['line', 'act', 'half', 'period', 'section', 'stage', 'floor', 'trial', 'list', 'step', 'series', 'movement', 'game', 'shot', 'choice', 'principle', 'division', 'scene', 'bridge', 'possibility', 'instance', 'round', 'term', 'murder', 'column', 'song', 'cell', 'argument', 'conclusion', 'occasion', 'generation', 'largest', 'speaker', 'atomic', 'flight', 'explanation', 'gate', 'release', 'edition', 'row', 'sentence', 'quarter', 'admission', 'split', 'lieutenant', 'bullet', 'requirement', 'combat', 'landing', 'dilemma', 'productive', 'exhibit', 'category', 'melting', 'tale', 'complement', 'illness', 'fractions']\n",
            "Cluster  93  :-  ['2', 'per', '4', '10', '5', '15', '12', '30', '6', '20', '100', '25', '50', '14', '11', '18', '24', '13', '40', '22', '23', '200']\n",
            "Cluster  94  :-  ['ones', 'approach', 'pattern', 'products', 'parents', 'entirely', 'structure', 'king', 'product', 'rules', 'concept', 'atmosphere', 'model', 'communism', 'fashion', 'application', 'arts', 'birth', 'site', 'wind', 'location', 'roads', 'assignment', 'baby', 'plants', 'machinery', 'technique', 'processes', 'vision', 'device', 'thoughts', 'grass', 'version', 'hero', 'angle', 'assembly', 'measures', 'poem', 'fears', 'ring', 'creation', 'doctrine', 'medium', 'crossed', 'civilization', 'tissue', 'visual', 'estimate', 'introduction', 'stick', 'copy', 'random', 'tested', 'outlook', 'context', 'candidate', 'raising', 'realistic', 'arrangement', 'crazy', 'charter', 'owner', 'drill', 'maid', 'recording', 'reform', 'era', 'occurrence', 'frontier', 'exciting', 'creating', 'perception', 'humanity', 'clarity', 'upward', 'friendship', 'concepts', 'discipline', 'managers', 'stretch', 'attracted', 'stadium', 'breaking', 'applications', 'motel', 'prospects', 'wholly', 'peas', 'drug', 'posts', 'heights', 'plug', 'ad', 'appreciation', 'retained', 'investigations', 'triumph', 'statistics', 'ownership', 'insight', 'jail', 'passengers', 'addresses', 'mate', 'submarines', 'boss', 'theories', 'airport', 'politicians', 'elementary', 'attract']\n",
            "Cluster  95  :-  ['wrote', 'led', 'served', 'function', 'applied', 'suggested', 'commission', 'included', 'sir', 'allowed', 'stated', 'offered', 'forced', 'recognized', 'expressed', 'observed', 'assumed', 'smiled', 'declared', 'gross', 'headquarters', 'supposed', 'associated', 'struck', 'charged', 'informed', 'permitted', 'bought', 'supported', 'experienced', 'introduced', 'cousin', 'opportunities', 'taught', 'welcome', 'employed', 'holy', 'hoped', 'sold', 'engaged', 'mail', 'recommended', 'artery', 'includes', 'seeking', 'helping', 'contribute', 'believes', 'republic', 'demanded', 'opposed', 'pleased', 'dean', 'happens', 'studying', 'painted', 'candidates', 'acts', 'assured', 'destroyed', 'specifically', 'scheduled', 'serving', 'turns', 'sacred', 'banks', 'resulted', 'illustrated', 'chose', 'accompanied', 'belong', 'questionnaire', 'attended', 'sees', 'schedule', 'desirable', 'similarly', 'urged', 'claimed', 'washed', 'phenomenon', 'tied', 'filed', 'missiles', 'inevitable', 'inadequate', 'extraordinary', 'consequently', 'defeat', 'secondary', 'dates', 'reveal', 'lesson', 'furnish', 'vigorous', 'suggests', 'reminded', 'witness', 'stained', 'veteran', 'permits', 'publicly', 'dull', 'minimal', 'threatening', 'magazines', 'viewed', 'inspired', 'trading', 'proceeded', 'absorbed', 'relieved', 'forgive', 'interpreted', 'desires', 'habit', 'warned', 'complained', 'carries', 'bid', 'regularly', 'laughter', 'wives', 'meanings', 'displayed', 'submitted', 'definitely', 'dishes', 'receives', 'expanded', 'aroused', 'injured', 'rises', 'arrest', 'stresses', 'addressed', 'allows', 'likes']\n",
            "Cluster  96  :-  ['says', 'lay', 'despite', 'fixed', 'died', 'remains', 'watch', 'title', 'quiet', 'watching', 'stands', 'imagination', 'holding', 'empty', 'refused', 'stared', 'sensitive', 'minor', 'busy', 'alive', 'review', 'wild', 'rural', 'contrary', 'nodded', 'till', 'burning', 'leaves', 'guard', 'waters', 'blind', 'lights', 'unknown', 'wearing', 'mounted', 'elsewhere', 'heaven', 'smooth', 'holds', 'burned', 'shouted', 'sleeping', 'listening', 'voices', 'foam', 'occupied', 'virgin', 'worried', 'facing', 'owned', 'suitable', 'missing', 'lacking', 'salvation', 'remote', 'ruled', 'parking', 'hoping', 'asleep', 'liberals', 'reserved', 'charm', 'trembling', 'staring', 'delayed', 'evidently', 'promising', 'seated', 'bore', 'champion', 'musician', 'whisky', 'searching', 'targets', 'exhibition', 'helpless', 'fluid', 'wondering', 'struggling', 'resting']\n",
            "Cluster  97  :-  ['sure', 'fire', 'paper', 'efforts', 'note', 'decision', 'plans', 'news', 'unless', 'attempt', 'worth', 'impossible', 'regular', 'mark', 'desire', 'aircraft', 'sleep', 'guests', 'contact', 'showing', 'metal', 'tests', 'sky', 'appearance', 'double', 'demands', 'decisions', 'measurements', 'payment', 'remarks', 'establishment', 'abroad', 'conversation', 'request', 'payments', 'plain', 'numerous', 'dangerous', 'award', 'load', 'steel', 'discovery', 'fun', 'reply', 'rough', 'distinction', 'atoms', 'thoroughly', 'observations', 'presumably', 'selection', 'concert', 'foundation', 'arrangements', 'assure', 'magic', 'fool', 'comfortable', 'hurry', 'alternative', 'suggestion', 'currently', 'thereby', 'mistake', 'swift', 'tragic', 'gesture', 'mud', 'eastern', 'covers', 'films', 'remark', 'network', 'comments', 'virtue', 'propaganda', 'subsequent', 'petitioner', 'appointment', 'communications', 'passes', 'butter', 'pursuant', 'settlement', 'gear', 'taxpayers', 'pile', 'contacts', 'undoubtedly', 'explicit', 'bombers', 'bend', 'jump', 'originally', 'dive', 'sink', 'sweat', 'plaster', 'recommendations', 'spectacular', 'auto', 'implications', 'economical', 'speeches', 'dedication', 'profits', 'desert', 'neat', 'planet', 'circular', 'adjustments', 'treaty', 'rush', 'promises', 'slim', 'improvements', 'newer', 'warrant', 'pipe', 'nest', 'fascinating', 'accordance', 'distinctive', 'appeals', 'shipping', 'decisive', 'fatal']\n",
            "Cluster  98  :-  ['president', 'ill', 'clear', 'apparently', 'chief', 'completely', 'director', 'dance', 'active', 'aware', 'sex', 'reality', 'editor', 'familiar', 'chosen', 'dominant', 'fellow', 'fat', 'professor', 'apparent', 'afraid', 'evident', 'eventually', 'widely', 'detective', 'flesh', 'gradually', 'easier', 'convinced', 'tragedy', 'silent', 'singing', 'conscious', 'valuable', 'angry', 'confused', 'increasingly', 'institution', 'comedy', 'stronger', 'mixed', 'classic', 'shortly', 'ocean', 'tears', 'fewer', 'violent', 'museum', 'markets', 'gay', 'committed', 'victim', 'disturbed', 'cavalry', 'amateur', 'rational', 'vague', 'pond', 'exclusively', 'rigid', 'harder', 'adults', 'ultimately', 'incredible', 'excited', 'ambiguous', 'ambassador', 'joke', 'steadily', 'ugly', 'educated', 'bold', 'smart', 'dominated', 'temporarily', 'reactionary', 'pupil', 'toast', 'lover', 'cats']\n",
            "Cluster  99  :-  ['told', 'called', 'asked', 'saw', 'seemed', 'done', 'heard', 'wanted', 'dead', 'lost', 'tried', 'sent', 'showed', 'appeared', 'met', 'opened', 'beautiful', 'learned', 'hit', 'poor', 'married', 'interested', 'dropped', 'knows', 'caught', 'happy', 'goes', 'spoke', 'takes', 'named', 'strange', 'explained', 'nice', 'killed', 'broke', 'wants', 'proved', 'talked', 'loved', 'sought', 'feels', 'lovely', 'visited', 'spoken']\n"
          ]
        }
      ]
    }
  ]
}